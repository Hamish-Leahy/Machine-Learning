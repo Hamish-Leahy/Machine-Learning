{
 "cells": [
  {
   "cell_type": "code",
   "execution_count": null,
   "metadata": {},
   "outputs": [],
   "source": [
    "# Install necessary libraries (if not already installed)\n",
    "# !pip install shap scikit-learn\n",
    "\n",
    "import numpy as np\n",
    "import pandas as pd\n",
    "import shap\n",
    "from sklearn.model_selection import train_test_split\n",
    "from sklearn.ensemble import RandomForestClassifier\n",
    "from sklearn.datasets import load_iris\n",
    "\n",
    "# Load the Iris dataset\n",
    "data = load_iris()\n",
    "X, y = data.data, data.target\n",
    "\n",
    "# Split the data into training and testing sets\n",
    "X_train, X_test, y_train, y_test = train_test_split(X, y, test_size=0.2, random_state=42)\n",
    "\n",
    "# Create a RandomForestClassifier model\n",
    "model = RandomForestClassifier(random_state=42)\n",
    "model.fit(X_train, y_train)\n",
    "\n",
    "# Initialize the SHAP explainer with the trained model\n",
    "explainer = shap.Explainer(model, X_train)\n",
    "\n",
    "# Explain a single prediction\n",
    "sample_idx = 0\n",
    "sample = X_test[sample_idx:sample_idx+1]\n",
    "shap_values = explainer(sample)\n",
    "\n",
    "# Get the feature importance values for the predicted class\n",
    "feature_importance = shap_values[0]\n",
    "\n",
    "# Create a summary plot\n",
    "shap.summary_plot(shap_values, X_test, feature_names=data.feature_names, class_names=data.target_names)\n",
    "\n",
    "# Explain all predictions in the test set\n",
    "shap_values_test = explainer(X_test)\n",
    "\n",
    "# Plot the SHAP values for a specific class\n",
    "shap.summary_plot(shap_values_test, X_test, feature_names=data.feature_names, class_names=data.target_names[0])\n"
   ]
  }
 ],
 "metadata": {
  "language_info": {
   "name": "python"
  },
  "orig_nbformat": 4
 },
 "nbformat": 4,
 "nbformat_minor": 2
}
